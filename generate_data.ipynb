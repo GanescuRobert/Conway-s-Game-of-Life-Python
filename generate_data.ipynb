{
 "metadata": {
  "language_info": {
   "codemirror_mode": {
    "name": "ipython",
    "version": 3
   },
   "file_extension": ".py",
   "mimetype": "text/x-python",
   "name": "python",
   "nbconvert_exporter": "python",
   "pygments_lexer": "ipython3",
   "version": "3.8.8-final"
  },
  "orig_nbformat": 2,
  "kernelspec": {
   "name": "python3",
   "display_name": "Python 3",
   "language": "python"
  }
 },
 "nbformat": 4,
 "nbformat_minor": 2,
 "cells": [
  {
   "cell_type": "code",
   "execution_count": 1,
   "metadata": {},
   "outputs": [],
   "source": [
    "import numpy as np"
   ]
  },
  {
   "cell_type": "code",
   "execution_count": 2,
   "metadata": {},
   "outputs": [],
   "source": [
    "VALUES = [0,1]\n",
    "RATIO =[[0.25,0.75],[0.5,0.5],[0.75,0.25]]\n",
    "SIZE = [100,500,1000]"
   ]
  },
  {
   "cell_type": "code",
   "execution_count": 3,
   "metadata": {},
   "outputs": [],
   "source": [
    "for r in RATIO:\n",
    "    for s in SIZE:\n",
    "        nums=np.random.choice(VALUES, size=s, p=r)\n",
    "        with open (f'ratio_{r}___size_{s}.txt','w') as file:\n",
    "            for num in nums:\n",
    "                file.write(f'{num}')\n",
    "    "
   ]
  }
 ]
}