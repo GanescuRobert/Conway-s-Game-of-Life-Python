{
 "cells": [
  {
   "cell_type": "code",
   "execution_count": 16,
   "metadata": {},
   "outputs": [],
   "source": [
    "import numpy as np"
   ]
  },
  {
   "cell_type": "code",
   "execution_count": 17,
   "metadata": {},
   "outputs": [],
   "source": [
    "SIZES = [100,250,500,1000,2000]\n",
    "ITERATIONS = [1000, 5000 ,10000, 25000 ,50000]"
   ]
  },
  {
   "cell_type": "code",
   "execution_count": 18,
   "metadata": {},
   "outputs": [],
   "source": [
    "class Game(object):\n",
    "    def __init__(self, shape, dtype=np.int8):\n",
    "        self.workspace = np.random.randint(0, 2, size=shape, dtype=dtype)\n",
    "        self.shape = self.workspace.shape\n",
    "        self._engine = Engine(self)\n",
    "        self.step = 0\n",
    "\n",
    "    def animate(self,no_iter):\n",
    "        while no_iter != self.step:\n",
    "            self._engine.next_state()\n",
    "            self.step += 1"
   ]
  },
  {
   "cell_type": "code",
   "execution_count": 19,
   "metadata": {},
   "outputs": [],
   "source": [
    "class Engine(object):\n",
    "    def __init__(self, workspace, dtype=np.int8):\n",
    "        self._workspace = workspace\n",
    "        self.shape = workspace.shape\n",
    "        self.neighbor = np.zeros(workspace.shape, dtype=dtype)\n",
    "        self._neighbor_id = self._make_neighbor_indices()\n",
    "        \n",
    "\n",
    "    def _make_neighbor_indices(self):\n",
    "        d = [slice(None), slice(1, None), slice(0, -1)]\n",
    "        d2 = [(0, 1), (1, 1), (1, 0), (1, -1)]\n",
    "        out = [None for i in range(8)]\n",
    "        for i, idx in enumerate(d2):\n",
    "            x, y = idx\n",
    "            out[i] = [d[x], d[y]]\n",
    "            out[7 - i] = [d[-x], d[-y]]\n",
    "        return out\n",
    "\n",
    "    def _count_neighbors(self):\n",
    "        self.neighbor[:, :] = 0  # reset neighbors\n",
    "        # count #neighbors of each cell.\n",
    "        w = self._workspace.workspace\n",
    "        n_id = self._neighbor_id\n",
    "        n = self.neighbor\n",
    "        for i in range(8):\n",
    "            n[tuple(n_id[i])] += w[tuple(n_id[7 - i])]\n",
    "\n",
    "    def _update_workspace(self):\n",
    "        w = self._workspace.workspace\n",
    "        n = self.neighbor\n",
    "        w &= (n == 2) \n",
    "        w |= (n == 3)  \n",
    "\n",
    "    def next_state(self):\n",
    "        self._count_neighbors()\n",
    "        self._update_workspace()\n"
   ]
  },
  {
   "cell_type": "code",
   "execution_count": 6,
   "metadata": {},
   "outputs": [
    {
     "name": "stdout",
     "output_type": "stream",
     "text": [
      "123 ms ± 3.66 ms per loop (mean ± std. dev. of 7 runs, 10 loops each)\n"
     ]
    }
   ],
   "source": [
    "%%timeit\n",
    "workspace_shape = (SIZES[0],SIZES[0]) # 100x100\n",
    "iteration_size = ITERATIONS[0] # 1k\n",
    "\n",
    "game = Game(workspace_shape)\n",
    "game.animate(iteration_size)"
   ]
  },
  {
   "cell_type": "code",
   "execution_count": 7,
   "metadata": {},
   "outputs": [
    {
     "name": "stdout",
     "output_type": "stream",
     "text": [
      "625 ms ± 10.4 ms per loop (mean ± std. dev. of 7 runs, 1 loop each)\n"
     ]
    }
   ],
   "source": [
    "%%timeit\n",
    "workspace_size = (SIZES[0],SIZES[0]) # 100x100\n",
    "iteration_size = ITERATIONS[1] #5k\n",
    "\n",
    "game = Game(workspace_shape)\n",
    "game.animate(iteration_size)"
   ]
  },
  {
   "cell_type": "code",
   "execution_count": 8,
   "metadata": {},
   "outputs": [
    {
     "name": "stdout",
     "output_type": "stream",
     "text": [
      "1.24 s ± 64.6 ms per loop (mean ± std. dev. of 7 runs, 1 loop each)\n"
     ]
    }
   ],
   "source": [
    "%%timeit\n",
    "workspace_size = (SIZES[0],SIZES[0]) # 100x100\n",
    "iteration_size = ITERATIONS[2] #10k\n",
    "\n",
    "game = Game(workspace_shape)\n",
    "game.animate(iteration_size)"
   ]
  },
  {
   "cell_type": "code",
   "execution_count": 9,
   "metadata": {},
   "outputs": [
    {
     "name": "stdout",
     "output_type": "stream",
     "text": [
      "3.01 s ± 78 ms per loop (mean ± std. dev. of 7 runs, 1 loop each)\n"
     ]
    }
   ],
   "source": [
    "%%timeit\n",
    "workspace_size = (SIZES[0],SIZES[0]) # 100x100\n",
    "iteration_size = ITERATIONS[3] #25k\n",
    "\n",
    "game = Game(workspace_shape)\n",
    "game.animate(iteration_size)"
   ]
  },
  {
   "cell_type": "code",
   "execution_count": 10,
   "metadata": {},
   "outputs": [
    {
     "name": "stdout",
     "output_type": "stream",
     "text": [
      "6.99 s ± 882 ms per loop (mean ± std. dev. of 7 runs, 1 loop each)\n"
     ]
    }
   ],
   "source": [
    "%%timeit\n",
    "workspace_size = (SIZES[0],SIZES[0]) # 100x100\n",
    "iteration_size = ITERATIONS[4] # 50k\n",
    "\n",
    "game = Game(workspace_shape)\n",
    "game.animate(iteration_size)"
   ]
  },
  {
   "cell_type": "code",
   "execution_count": 11,
   "metadata": {},
   "outputs": [
    {
     "name": "stdout",
     "output_type": "stream",
     "text": [
      "577 ms ± 39.2 ms per loop (mean ± std. dev. of 7 runs, 1 loop each)\n"
     ]
    }
   ],
   "source": [
    "%%timeit\n",
    "workspace_size = (SIZES[1],SIZES[1])\n",
    "iteration_size = ITERATIONS[0]\n",
    "\n",
    "game = Game(workspace_shape)\n",
    "game.animate(iteration_size)"
   ]
  },
  {
   "cell_type": "code",
   "execution_count": 12,
   "metadata": {},
   "outputs": [
    {
     "name": "stdout",
     "output_type": "stream",
     "text": [
      "2.91 s ± 82.7 ms per loop (mean ± std. dev. of 7 runs, 1 loop each)\n"
     ]
    }
   ],
   "source": [
    "%%timeit\n",
    "workspace_size = (SIZES[1],SIZES[1])\n",
    "iteration_size = ITERATIONS[1]\n",
    "\n",
    "game = Game(workspace_shape)\n",
    "game.animate(iteration_size)"
   ]
  },
  {
   "cell_type": "code",
   "execution_count": 13,
   "metadata": {},
   "outputs": [
    {
     "name": "stdout",
     "output_type": "stream",
     "text": [
      "6.39 s ± 365 ms per loop (mean ± std. dev. of 7 runs, 1 loop each)\n"
     ]
    }
   ],
   "source": [
    "%%timeit\n",
    "workspace_size = (SIZES[1],SIZES[1])\n",
    "iteration_size = ITERATIONS[2]\n",
    "\n",
    "game = Game(workspace_shape)\n",
    "game.animate(iteration_size)"
   ]
  },
  {
   "cell_type": "code",
   "execution_count": 14,
   "metadata": {},
   "outputs": [
    {
     "name": "stdout",
     "output_type": "stream",
     "text": [
      "16.1 s ± 1.09 s per loop (mean ± std. dev. of 7 runs, 1 loop each)\n"
     ]
    }
   ],
   "source": [
    "%%timeit\n",
    "workspace_size = (SIZES[1],SIZES[1])\n",
    "iteration_size = ITERATIONS[3]\n",
    "\n",
    "game = Game(workspace_shape)\n",
    "game.animate(iteration_size)"
   ]
  },
  {
   "cell_type": "code",
   "execution_count": 15,
   "metadata": {},
   "outputs": [
    {
     "name": "stdout",
     "output_type": "stream",
     "text": [
      "31.6 s ± 1.06 s per loop (mean ± std. dev. of 7 runs, 1 loop each)\n"
     ]
    }
   ],
   "source": [
    "%%timeit\n",
    "workspace_size = (SIZES[1],SIZES[1]) #250x250\n",
    "iteration_size = ITERATIONS[4] # 50k\n",
    "\n",
    "game = Game(workspace_shape)\n",
    "game.animate(iteration_size)"
   ]
  },
  {
   "cell_type": "code",
   "execution_count": 16,
   "metadata": {},
   "outputs": [
    {
     "name": "stdout",
     "output_type": "stream",
     "text": [
      "2.25 s ± 166 ms per loop (mean ± std. dev. of 7 runs, 1 loop each)\n"
     ]
    }
   ],
   "source": [
    "%%timeit\n",
    "workspace_size = (SIZES[2],SIZES[2])\n",
    "iteration_size = ITERATIONS[0]\n",
    "\n",
    "game = Game(workspace_shape)\n",
    "game.animate(iteration_size)"
   ]
  },
  {
   "cell_type": "code",
   "execution_count": 17,
   "metadata": {},
   "outputs": [
    {
     "name": "stdout",
     "output_type": "stream",
     "text": [
      "12.3 s ± 465 ms per loop (mean ± std. dev. of 7 runs, 1 loop each)\n"
     ]
    }
   ],
   "source": [
    "%%timeit\n",
    "workspace_size = (SIZES[2],SIZES[2])\n",
    "iteration_size = ITERATIONS[1]\n",
    "\n",
    "game = Game(workspace_shape)\n",
    "game.animate(iteration_size)"
   ]
  },
  {
   "cell_type": "code",
   "execution_count": 18,
   "metadata": {},
   "outputs": [
    {
     "name": "stdout",
     "output_type": "stream",
     "text": [
      "24.2 s ± 727 ms per loop (mean ± std. dev. of 7 runs, 1 loop each)\n"
     ]
    }
   ],
   "source": [
    "%%timeit\n",
    "workspace_size = (SIZES[2],SIZES[2])\n",
    "iteration_size = ITERATIONS[2]\n",
    "\n",
    "game = Game(workspace_shape)\n",
    "game.animate(iteration_size)"
   ]
  },
  {
   "cell_type": "code",
   "execution_count": 19,
   "metadata": {},
   "outputs": [
    {
     "name": "stdout",
     "output_type": "stream",
     "text": [
      "1min 3s ± 4.46 s per loop (mean ± std. dev. of 7 runs, 1 loop each)\n"
     ]
    }
   ],
   "source": [
    "%%timeit\n",
    "workspace_size = (SIZES[2],SIZES[2])\n",
    "iteration_size = ITERATIONS[3]\n",
    "\n",
    "game = Game(workspace_shape)\n",
    "game.animate(iteration_size)"
   ]
  },
  {
   "cell_type": "code",
   "execution_count": 20,
   "metadata": {},
   "outputs": [
    {
     "name": "stdout",
     "output_type": "stream",
     "text": [
      "1min 57s ± 7.38 s per loop (mean ± std. dev. of 7 runs, 1 loop each)\n"
     ]
    }
   ],
   "source": [
    "%%timeit\n",
    "workspace_size = (SIZES[2],SIZES[2])\n",
    "iteration_size = ITERATIONS[4]\n",
    "\n",
    "game = Game(workspace_shape)\n",
    "game.animate(iteration_size)"
   ]
  },
  {
   "cell_type": "code",
   "execution_count": 21,
   "metadata": {},
   "outputs": [
    {
     "name": "stdout",
     "output_type": "stream",
     "text": [
      "8.26 s ± 361 ms per loop (mean ± std. dev. of 7 runs, 1 loop each)\n"
     ]
    }
   ],
   "source": [
    "%%timeit\n",
    "workspace_size = (SIZES[3],SIZES[3])\n",
    "iteration_size = ITERATIONS[0]\n",
    "\n",
    "game = Game(workspace_shape)\n",
    "game.animate(iteration_size)"
   ]
  },
  {
   "cell_type": "code",
   "execution_count": 22,
   "metadata": {},
   "outputs": [
    {
     "name": "stdout",
     "output_type": "stream",
     "text": [
      "41.4 s ± 621 ms per loop (mean ± std. dev. of 7 runs, 1 loop each)\n"
     ]
    }
   ],
   "source": [
    "%%timeit\n",
    "workspace_size = (SIZES[3],SIZES[3])\n",
    "iteration_size = ITERATIONS[1]\n",
    "\n",
    "game = Game(workspace_shape)\n",
    "game.animate(iteration_size)"
   ]
  },
  {
   "cell_type": "code",
   "execution_count": 23,
   "metadata": {},
   "outputs": [
    {
     "name": "stdout",
     "output_type": "stream",
     "text": [
      "1min 29s ± 1.75 s per loop (mean ± std. dev. of 7 runs, 1 loop each)\n"
     ]
    }
   ],
   "source": [
    "%%timeit\n",
    "workspace_size = (SIZES[3],SIZES[3])\n",
    "iteration_size = ITERATIONS[2]\n",
    "\n",
    "game = Game(workspace_shape)\n",
    "game.animate(iteration_size)"
   ]
  },
  {
   "cell_type": "code",
   "execution_count": 24,
   "metadata": {},
   "outputs": [
    {
     "name": "stdout",
     "output_type": "stream",
     "text": [
      "3min 47s ± 11.4 s per loop (mean ± std. dev. of 7 runs, 1 loop each)\n"
     ]
    }
   ],
   "source": [
    "%%timeit\n",
    "workspace_size = (SIZES[3],SIZES[3])\n",
    "iteration_size = ITERATIONS[3]\n",
    "\n",
    "game = Game(workspace_shape)\n",
    "game.animate(iteration_size)"
   ]
  },
  {
   "cell_type": "code",
   "execution_count": 25,
   "metadata": {
    "scrolled": true
   },
   "outputs": [
    {
     "name": "stdout",
     "output_type": "stream",
     "text": [
      "7min 27s ± 30.8 s per loop (mean ± std. dev. of 7 runs, 1 loop each)\n"
     ]
    }
   ],
   "source": [
    "%%timeit\n",
    "workspace_size = (SIZES[3],SIZES[3])    # 1k x 1k\n",
    "iteration_size = ITERATIONS[4]          # 50k\n",
    "\n",
    "game = Game(workspace_shape)\n",
    "game.animate(iteration_size)"
   ]
  },
  {
   "cell_type": "code",
   "execution_count": 10,
   "metadata": {},
   "outputs": [
    {
     "output_type": "stream",
     "name": "stdout",
     "text": [
      "42.2 s ± 1.6 s per loop (mean ± std. dev. of 7 runs, 1 loop each)\n"
     ]
    }
   ],
   "source": [
    "%%timeit\n",
    "workspace_shape =  (SIZES[4],SIZES[4])  # 2k x 2k\n",
    "iteration_size = ITERATIONS[0]          # 1k\n",
    "\n",
    "game = Game(workspace_shape)\n",
    "game.animate(iteration_size)"
   ]
  },
  {
   "cell_type": "code",
   "execution_count": 11,
   "metadata": {},
   "outputs": [
    {
     "output_type": "stream",
     "name": "stdout",
     "text": [
      "3min 30s ± 5.38 s per loop (mean ± std. dev. of 7 runs, 1 loop each)\n"
     ]
    }
   ],
   "source": [
    "%%timeit\n",
    "workspace_shape =  (SIZES[4],SIZES[4]) # 2k x 2k\n",
    "iteration_size = ITERATIONS[1]# 5k\n",
    "\n",
    "game = Game(workspace_shape)\n",
    "game.animate(iteration_size)"
   ]
  },
  {
   "cell_type": "code",
   "execution_count": 12,
   "metadata": {},
   "outputs": [
    {
     "output_type": "stream",
     "name": "stdout",
     "text": [
      "6min 58s ± 22.8 s per loop (mean ± std. dev. of 7 runs, 1 loop each)\n"
     ]
    }
   ],
   "source": [
    "%%timeit\n",
    "workspace_shape =  (SIZES[4],SIZES[4])# 2k x 2k\n",
    "iteration_size = ITERATIONS[2]# 10k\n",
    "\n",
    "game = Game(workspace_shape)\n",
    "game.animate(iteration_size)"
   ]
  },
  {
   "cell_type": "code",
   "execution_count": 13,
   "metadata": {},
   "outputs": [
    {
     "output_type": "stream",
     "name": "stdout",
     "text": [
      "16min 36s ± 1min 20s per loop (mean ± std. dev. of 7 runs, 1 loop each)\n"
     ]
    }
   ],
   "source": [
    "%%timeit\n",
    "workspace_shape =  (SIZES[4],SIZES[4])# 2k x 2k\n",
    "iteration_size = ITERATIONS[3]# 25k\n",
    "\n",
    "game = Game(workspace_shape)\n",
    "game.animate(iteration_size)"
   ]
  },
  {
   "cell_type": "code",
   "execution_count": 14,
   "metadata": {},
   "outputs": [
    {
     "output_type": "stream",
     "name": "stdout",
     "text": [
      "35min 18s ± 3min 19s per loop (mean ± std. dev. of 7 runs, 1 loop each)\n"
     ]
    }
   ],
   "source": [
    "%%timeit\n",
    "workspace_shape =  (SIZES[4],SIZES[4])# 2k x 2k\n",
    "iteration_size = ITERATIONS[4]# 50k\n",
    "\n",
    "game = Game(workspace_shape)\n",
    "game.animate(iteration_size)"
   ]
  },
  {
   "cell_type": "code",
   "execution_count": null,
   "metadata": {},
   "outputs": [],
   "source": []
  }
 ],
 "metadata": {
  "kernelspec": {
   "display_name": "Python 3",
   "language": "python",
   "name": "python3"
  },
  "language_info": {
   "codemirror_mode": {
    "name": "ipython",
    "version": 3
   },
   "file_extension": ".py",
   "mimetype": "text/x-python",
   "name": "python",
   "nbconvert_exporter": "python",
   "pygments_lexer": "ipython3",
   "version": "3.8.8-final"
  }
 },
 "nbformat": 4,
 "nbformat_minor": 2
}